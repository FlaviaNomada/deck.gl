{
 "cells": [
  {
   "cell_type": "markdown",
   "metadata": {},
   "source": [
    "# pydeck Examples\n",
    "\n",
    "## Contents\n",
    "\n",
    "- [01 - Introduction](examples/01%20-%20Introduction.ipynb)\n",
    "- [02 - Scatterplots](examples/02%20-%20Scatterplots.ipynb)\n",
    "- [03 - Aggregation Layers](examples/03%20-%20Aggregation%20Layers.ipynb)\n",
    "- [04 - PointCloudLayer and 3D visualizations](examples/04%20-%20PointCloudLayer.ipynb)\n",
    "- [05 - Interacting with Jupyter Widgets](examples/05%20-%20Interacting%20with%20other%20Jupyter%20widgets.ipynb)\n",
    "- [Case Study - Conway's Game of Life](examples/06%20-%20Conway's%20Game%20of%20Life.ipynb)\n",
    "- [Case Study - Suggesting Uber Pickup Locations](examples/07%20-%20Clustering%20example.ipynb)"
   ]
  }
 ],
 "metadata": {
  "kernelspec": {
   "display_name": "Python 3",
   "language": "python",
   "name": "python3"
  },
  "language_info": {
   "codemirror_mode": {
    "name": "ipython",
    "version": 3
   },
   "file_extension": ".py",
   "mimetype": "text/x-python",
   "name": "python",
   "nbconvert_exporter": "python",
   "pygments_lexer": "ipython3",
   "version": "3.7.3"
  }
 },
 "nbformat": 4,
 "nbformat_minor": 2
}
